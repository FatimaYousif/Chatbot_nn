{
  "nbformat": 4,
  "nbformat_minor": 0,
  "metadata": {
    "colab": {
      "provenance": []
    },
    "kernelspec": {
      "name": "python3",
      "display_name": "Python 3"
    },
    "language_info": {
      "name": "python"
    }
  },
  "cells": [
    {
      "cell_type": "code",
      "execution_count": 1,
      "metadata": {
        "id": "-SW_g2Oc9pwn"
      },
      "outputs": [],
      "source": [
        "#importing required libraries\n",
        "\n",
        "import random\n",
        "import json\n",
        "import pickle\n",
        "import numpy as np\n",
        "\n",
        "import nltk \n",
        "from  nltk.stem import WordNetLemmatizer\n",
        "\n",
        "from tensorflow.keras.models import Sequential\n",
        "from tensorflow.keras.layers import Dense, Activation, Dropout\n",
        "from tensorflow.keras.optimizers import SGD\n"
      ]
    },
    {
      "cell_type": "code",
      "source": [
        "#initializing lemmatizer= for tokenizing words\n",
        "lemmatizer=WordNetLemmatizer()\n",
        "\n",
        "#loading the intents file\n",
        "intents=json.loads(open('intents.json').read())"
      ],
      "metadata": {
        "id": "0-AqETvT-FJH"
      },
      "execution_count": 2,
      "outputs": []
    },
    {
      "cell_type": "code",
      "source": [
        "#the following lists are for storing:\n",
        "# words -> tokenize(lemmatized)\n",
        "# classes -> tags\n",
        "# documents -> words+tags\n",
        "\n",
        "words=[]\n",
        "classes=[]\n",
        "documents=[]\n",
        "\n",
        "#cleaning words\n",
        "ignore_letters=['?', \"!\", \".\",\",\"]"
      ],
      "metadata": {
        "id": "O-BHEkYm-FLT"
      },
      "execution_count": 3,
      "outputs": []
    },
    {
      "cell_type": "code",
      "source": [
        "nltk.download('punkt')"
      ],
      "metadata": {
        "colab": {
          "base_uri": "https://localhost:8080/"
        },
        "id": "Mawefc32-rV0",
        "outputId": "1542b242-408f-4851-f4d8-6376c0f582aa"
      },
      "execution_count": 4,
      "outputs": [
        {
          "output_type": "stream",
          "name": "stderr",
          "text": [
            "[nltk_data] Downloading package punkt to /root/nltk_data...\n",
            "[nltk_data]   Unzipping tokenizers/punkt.zip.\n"
          ]
        },
        {
          "output_type": "execute_result",
          "data": {
            "text/plain": [
              "True"
            ]
          },
          "metadata": {},
          "execution_count": 4
        }
      ]
    },
    {
      "cell_type": "code",
      "source": [
        "# intents -> pattern -> tokenize -> doc (token+tag) -> class=tag\n",
        "\n",
        "for intent in intents['intents']:\n",
        "  for pattern in intent['patterns']:\n",
        "    word_list=nltk.word_tokenize(pattern)\n",
        "    words.extend(word_list)\n",
        "    documents.append((word_list, intent['tag']))\n",
        "    if intent['tag'] not in classes:\n",
        "      classes.append(intent['tag'])"
      ],
      "metadata": {
        "id": "bsmrW5Iu-FOc"
      },
      "execution_count": 5,
      "outputs": []
    },
    {
      "cell_type": "code",
      "source": [
        " nltk.download('wordnet')\n",
        " nltk.download('omw-1.4')"
      ],
      "metadata": {
        "colab": {
          "base_uri": "https://localhost:8080/"
        },
        "id": "E9fw6Bzk_EuR",
        "outputId": "174c5834-432f-4c70-956e-7ad5042d0f37"
      },
      "execution_count": 6,
      "outputs": [
        {
          "output_type": "stream",
          "name": "stderr",
          "text": [
            "[nltk_data] Downloading package wordnet to /root/nltk_data...\n",
            "[nltk_data] Downloading package omw-1.4 to /root/nltk_data...\n"
          ]
        },
        {
          "output_type": "execute_result",
          "data": {
            "text/plain": [
              "True"
            ]
          },
          "metadata": {},
          "execution_count": 6
        }
      ]
    },
    {
      "cell_type": "code",
      "source": [
        "#remove ignored letters\n",
        "words=[lemmatizer.lemmatize(word) for word in words if word not in ignore_letters]\n",
        "\n",
        "#removing duplicates\n",
        "words=sorted(set(words))\n",
        "\n",
        "print(words)"
      ],
      "metadata": {
        "colab": {
          "base_uri": "https://localhost:8080/"
        },
        "id": "NzrMeYbj-FQq",
        "outputId": "09997645-ffd3-415b-fcaf-47adb6889cad"
      },
      "execution_count": 7,
      "outputs": [
        {
          "output_type": "stream",
          "name": "stdout",
          "text": [
            "['App', 'Are', 'Artificial', 'Can', 'Client', 'Development', 'Do', 'Good', 'Greetings', 'Hello', 'Help', 'Hi', 'I', 'Intelligence', 'Is', 'May', 'Web', 'What', 'Where', 'Who', 'Working', 'a', 'about', 'afternoon', 'am', 'are', 'area', 'assistance', 'available', 'brief', 'business', 'client', 'company', 'created', 'developer', 'development', 'discussion', 'do', 'doe', 'expertise', 'give', 'have', 'history', 'hour', 'in', 'information', 'inquire', 'interested', 'international', 'is', 'it', 'know', 'like', 'list', 'located', 'location', 'me', 'meet', 'more', 'morning', 'name', 'need', 'now', 'of', 'offer', 'office', 'on', 'past', 'person', 'physically', 'possible', 'project', 'provide', 'seeking', 'send', 'service', 'situated', 'speak', 'speaking', 'take', 'tell', 'to', 'type', 'want', 'who', 'with', 'work', 'worked', 'working', 'would', 'you', 'your']\n"
          ]
        }
      ]
    },
    {
      "cell_type": "code",
      "source": [
        "#removing duplicates (from classes)\n",
        "classes=sorted(set(classes))\n",
        "\n",
        "#storing the words and classes using pickle\n",
        "pickle.dump(words, open('words.pkl', 'wb'))\n",
        "pickle.dump(classes, open('classes.pkl', 'wb'))\n"
      ],
      "metadata": {
        "id": "cVixD6mV-FT5"
      },
      "execution_count": 8,
      "outputs": []
    },
    {
      "cell_type": "code",
      "source": [
        "#next is converting the words/tokens into numerical rep for neural networks(training)\n",
        "\n",
        "training = []\n",
        "\n",
        "#for template of 0s (as of total classes)\n",
        "output_empty = [0] * len(classes)\n",
        "\n",
        "#iterating documents to find the combination of words (1 hot rep of 1s or 0s)\n",
        "for document in documents:\n",
        "\n",
        "  #to be stored in bag\n",
        "    bag = []\n",
        "\n",
        "  #first element has words if you print document to check\n",
        "    word_patterns = document[0]\n",
        "   \n",
        "  #perform lemmatization operation\n",
        "    word_patterns = [lemmatizer.lemmatize(word.lower()) for word in word_patterns]\n",
        "\n",
        "  #iterate words list  \n",
        "    for word in words:\n",
        "\n",
        "  #checks if the word is present in both lists then bag=1 else bag=0\n",
        "        bag.append(1) if word in word_patterns else bag.append(0)\n",
        "    \n",
        "  #copying list\n",
        "    output_row = list(output_empty)\n",
        "  \n",
        "  #obtaining tags from document\n",
        "    output_row[classes.index(document[1])] = 1\n",
        "   \n",
        "  # one hot rep of words are paired here \n",
        "    training.append([bag, output_row])\n",
        "\n",
        "#shuffling before training\n",
        "random.shuffle(training)\n",
        "\n",
        "#converting list to np array\n",
        "training = np.array(training)\n",
        "\n",
        "#dividing the data for training (x for the first element of list and likewise y for second element)\n",
        "train_x = list(training[:, 0])\n",
        "train_y = list(training[:, 1])\n",
        "\n",
        "#building NN\n",
        "model = Sequential()\n",
        "model.add(\n",
        "    Dense(128, input_shape=(len(train_x[0]), ), activation='relu') \n",
        ")\n",
        "model.add(Dropout(0.5))\n",
        "model.add(Dense(64, activation='relu'))\n",
        "model.add(Dropout(0.5))\n",
        "model.add(Dense(len(train_y[0]), activation='softmax'))\n",
        "\n",
        "#using optimizer\n",
        "sgd = SGD(lr=0.01,decay=1e-6,momentum=0.9, nesterov=True)\n",
        "\n",
        "model.compile(loss='categorical_crossentropy', optimizer=sgd, metrics=['accuracy'])\n",
        "\n",
        "#training with fit function\n",
        "hist = model.fit(np.array(train_x), np.array(train_y), epochs=200, batch_size=5, verbose=1)\n",
        "\n",
        "#saving the trained model\n",
        "model.save('chatbot_model.h5', hist)\n",
        "\n",
        "print('Done')"
      ],
      "metadata": {
        "colab": {
          "base_uri": "https://localhost:8080/"
        },
        "id": "owJ0DK6p-FXB",
        "outputId": "c6f5be7d-8d6d-4243-fadb-49a7219cffcc"
      },
      "execution_count": 9,
      "outputs": [
        {
          "output_type": "stream",
          "name": "stderr",
          "text": [
            "<ipython-input-9-417d81a41ac1>:39: VisibleDeprecationWarning: Creating an ndarray from ragged nested sequences (which is a list-or-tuple of lists-or-tuples-or ndarrays with different lengths or shapes) is deprecated. If you meant to do this, you must specify 'dtype=object' when creating the ndarray.\n",
            "  training = np.array(training)\n"
          ]
        },
        {
          "output_type": "stream",
          "name": "stdout",
          "text": [
            "Epoch 1/200\n"
          ]
        },
        {
          "output_type": "stream",
          "name": "stderr",
          "text": [
            "/usr/local/lib/python3.8/dist-packages/keras/optimizers/optimizer_v2/gradient_descent.py:108: UserWarning: The `lr` argument is deprecated, use `learning_rate` instead.\n",
            "  super(SGD, self).__init__(name, **kwargs)\n"
          ]
        },
        {
          "output_type": "stream",
          "name": "stdout",
          "text": [
            "8/8 [==============================] - 1s 3ms/step - loss: 2.1497 - accuracy: 0.1892\n",
            "Epoch 2/200\n",
            "8/8 [==============================] - 0s 2ms/step - loss: 2.0082 - accuracy: 0.2432\n",
            "Epoch 3/200\n",
            "8/8 [==============================] - 0s 3ms/step - loss: 1.9311 - accuracy: 0.3243\n",
            "Epoch 4/200\n",
            "8/8 [==============================] - 0s 3ms/step - loss: 1.8075 - accuracy: 0.4324\n",
            "Epoch 5/200\n",
            "8/8 [==============================] - 0s 2ms/step - loss: 1.8202 - accuracy: 0.4595\n",
            "Epoch 6/200\n",
            "8/8 [==============================] - 0s 3ms/step - loss: 1.7319 - accuracy: 0.4324\n",
            "Epoch 7/200\n",
            "8/8 [==============================] - 0s 3ms/step - loss: 1.6191 - accuracy: 0.5405\n",
            "Epoch 8/200\n",
            "8/8 [==============================] - 0s 2ms/step - loss: 1.6206 - accuracy: 0.5135\n",
            "Epoch 9/200\n",
            "8/8 [==============================] - 0s 3ms/step - loss: 1.4242 - accuracy: 0.6216\n",
            "Epoch 10/200\n",
            "8/8 [==============================] - 0s 2ms/step - loss: 1.3094 - accuracy: 0.6216\n",
            "Epoch 11/200\n",
            "8/8 [==============================] - 0s 3ms/step - loss: 1.1883 - accuracy: 0.7297\n",
            "Epoch 12/200\n",
            "8/8 [==============================] - 0s 3ms/step - loss: 1.2367 - accuracy: 0.6486\n",
            "Epoch 13/200\n",
            "8/8 [==============================] - 0s 3ms/step - loss: 0.9173 - accuracy: 0.8108\n",
            "Epoch 14/200\n",
            "8/8 [==============================] - 0s 3ms/step - loss: 1.0775 - accuracy: 0.7027\n",
            "Epoch 15/200\n",
            "8/8 [==============================] - 0s 3ms/step - loss: 0.7929 - accuracy: 0.8649\n",
            "Epoch 16/200\n",
            "8/8 [==============================] - 0s 3ms/step - loss: 0.9885 - accuracy: 0.7027\n",
            "Epoch 17/200\n",
            "8/8 [==============================] - 0s 3ms/step - loss: 0.9222 - accuracy: 0.7568\n",
            "Epoch 18/200\n",
            "8/8 [==============================] - 0s 3ms/step - loss: 0.7080 - accuracy: 0.8108\n",
            "Epoch 19/200\n",
            "8/8 [==============================] - 0s 3ms/step - loss: 0.5854 - accuracy: 0.8649\n",
            "Epoch 20/200\n",
            "8/8 [==============================] - 0s 3ms/step - loss: 0.4045 - accuracy: 0.8919\n",
            "Epoch 21/200\n",
            "8/8 [==============================] - 0s 3ms/step - loss: 0.5870 - accuracy: 0.9189\n",
            "Epoch 22/200\n",
            "8/8 [==============================] - 0s 3ms/step - loss: 0.3619 - accuracy: 0.8919\n",
            "Epoch 23/200\n",
            "8/8 [==============================] - 0s 3ms/step - loss: 0.5493 - accuracy: 0.8649\n",
            "Epoch 24/200\n",
            "8/8 [==============================] - 0s 2ms/step - loss: 0.2575 - accuracy: 0.9459\n",
            "Epoch 25/200\n",
            "8/8 [==============================] - 0s 4ms/step - loss: 0.2805 - accuracy: 0.9189\n",
            "Epoch 26/200\n",
            "8/8 [==============================] - 0s 3ms/step - loss: 0.4903 - accuracy: 0.8649\n",
            "Epoch 27/200\n",
            "8/8 [==============================] - 0s 2ms/step - loss: 0.3295 - accuracy: 0.9459\n",
            "Epoch 28/200\n",
            "8/8 [==============================] - 0s 2ms/step - loss: 0.4080 - accuracy: 0.8649\n",
            "Epoch 29/200\n",
            "8/8 [==============================] - 0s 2ms/step - loss: 0.4041 - accuracy: 0.8649\n",
            "Epoch 30/200\n",
            "8/8 [==============================] - 0s 3ms/step - loss: 0.5916 - accuracy: 0.8378\n",
            "Epoch 31/200\n",
            "8/8 [==============================] - 0s 3ms/step - loss: 0.4026 - accuracy: 0.8919\n",
            "Epoch 32/200\n",
            "8/8 [==============================] - 0s 2ms/step - loss: 0.2787 - accuracy: 0.9730\n",
            "Epoch 33/200\n",
            "8/8 [==============================] - 0s 2ms/step - loss: 0.2988 - accuracy: 0.9189\n",
            "Epoch 34/200\n",
            "8/8 [==============================] - 0s 2ms/step - loss: 0.2323 - accuracy: 0.9459\n",
            "Epoch 35/200\n",
            "8/8 [==============================] - 0s 3ms/step - loss: 0.2277 - accuracy: 0.9459\n",
            "Epoch 36/200\n",
            "8/8 [==============================] - 0s 2ms/step - loss: 0.1588 - accuracy: 0.9730\n",
            "Epoch 37/200\n",
            "8/8 [==============================] - 0s 2ms/step - loss: 0.2010 - accuracy: 1.0000\n",
            "Epoch 38/200\n",
            "8/8 [==============================] - 0s 3ms/step - loss: 0.2961 - accuracy: 0.8919\n",
            "Epoch 39/200\n",
            "8/8 [==============================] - 0s 3ms/step - loss: 0.1052 - accuracy: 1.0000\n",
            "Epoch 40/200\n",
            "8/8 [==============================] - 0s 2ms/step - loss: 0.2089 - accuracy: 0.9459\n",
            "Epoch 41/200\n",
            "8/8 [==============================] - 0s 2ms/step - loss: 0.0958 - accuracy: 1.0000\n",
            "Epoch 42/200\n",
            "8/8 [==============================] - 0s 2ms/step - loss: 0.2221 - accuracy: 0.9189\n",
            "Epoch 43/200\n",
            "8/8 [==============================] - 0s 2ms/step - loss: 0.2632 - accuracy: 0.9459\n",
            "Epoch 44/200\n",
            "8/8 [==============================] - 0s 2ms/step - loss: 0.3690 - accuracy: 0.8919\n",
            "Epoch 45/200\n",
            "8/8 [==============================] - 0s 2ms/step - loss: 0.0958 - accuracy: 1.0000\n",
            "Epoch 46/200\n",
            "8/8 [==============================] - 0s 2ms/step - loss: 0.1613 - accuracy: 0.9730\n",
            "Epoch 47/200\n",
            "8/8 [==============================] - 0s 3ms/step - loss: 0.1297 - accuracy: 1.0000\n",
            "Epoch 48/200\n",
            "8/8 [==============================] - 0s 2ms/step - loss: 0.0799 - accuracy: 1.0000\n",
            "Epoch 49/200\n",
            "8/8 [==============================] - 0s 2ms/step - loss: 0.0973 - accuracy: 1.0000\n",
            "Epoch 50/200\n",
            "8/8 [==============================] - 0s 2ms/step - loss: 0.0832 - accuracy: 1.0000\n",
            "Epoch 51/200\n",
            "8/8 [==============================] - 0s 3ms/step - loss: 0.2287 - accuracy: 0.9189\n",
            "Epoch 52/200\n",
            "8/8 [==============================] - 0s 2ms/step - loss: 0.1528 - accuracy: 0.9459\n",
            "Epoch 53/200\n",
            "8/8 [==============================] - 0s 3ms/step - loss: 0.1057 - accuracy: 1.0000\n",
            "Epoch 54/200\n",
            "8/8 [==============================] - 0s 3ms/step - loss: 0.1775 - accuracy: 0.9459\n",
            "Epoch 55/200\n",
            "8/8 [==============================] - 0s 2ms/step - loss: 0.0937 - accuracy: 1.0000\n",
            "Epoch 56/200\n",
            "8/8 [==============================] - 0s 2ms/step - loss: 0.1168 - accuracy: 0.9730\n",
            "Epoch 57/200\n",
            "8/8 [==============================] - 0s 2ms/step - loss: 0.1072 - accuracy: 0.9730\n",
            "Epoch 58/200\n",
            "8/8 [==============================] - 0s 2ms/step - loss: 0.0925 - accuracy: 0.9730\n",
            "Epoch 59/200\n",
            "8/8 [==============================] - 0s 2ms/step - loss: 0.2201 - accuracy: 0.9459\n",
            "Epoch 60/200\n",
            "8/8 [==============================] - 0s 2ms/step - loss: 0.0801 - accuracy: 0.9730\n",
            "Epoch 61/200\n",
            "8/8 [==============================] - 0s 2ms/step - loss: 0.1617 - accuracy: 1.0000\n",
            "Epoch 62/200\n",
            "8/8 [==============================] - 0s 2ms/step - loss: 0.0731 - accuracy: 1.0000\n",
            "Epoch 63/200\n",
            "8/8 [==============================] - 0s 4ms/step - loss: 0.0939 - accuracy: 1.0000\n",
            "Epoch 64/200\n",
            "8/8 [==============================] - 0s 4ms/step - loss: 0.2543 - accuracy: 0.9730\n",
            "Epoch 65/200\n",
            "8/8 [==============================] - 0s 3ms/step - loss: 0.0919 - accuracy: 0.9730\n",
            "Epoch 66/200\n",
            "8/8 [==============================] - 0s 2ms/step - loss: 0.0568 - accuracy: 1.0000\n",
            "Epoch 67/200\n",
            "8/8 [==============================] - 0s 2ms/step - loss: 0.0723 - accuracy: 1.0000\n",
            "Epoch 68/200\n",
            "8/8 [==============================] - 0s 3ms/step - loss: 0.1076 - accuracy: 0.9730\n",
            "Epoch 69/200\n",
            "8/8 [==============================] - 0s 2ms/step - loss: 0.2731 - accuracy: 0.8919\n",
            "Epoch 70/200\n",
            "8/8 [==============================] - 0s 2ms/step - loss: 0.0534 - accuracy: 1.0000\n",
            "Epoch 71/200\n",
            "8/8 [==============================] - 0s 2ms/step - loss: 0.0784 - accuracy: 1.0000\n",
            "Epoch 72/200\n",
            "8/8 [==============================] - 0s 2ms/step - loss: 0.0855 - accuracy: 1.0000\n",
            "Epoch 73/200\n",
            "8/8 [==============================] - 0s 3ms/step - loss: 0.0511 - accuracy: 1.0000\n",
            "Epoch 74/200\n",
            "8/8 [==============================] - 0s 3ms/step - loss: 0.0403 - accuracy: 1.0000\n",
            "Epoch 75/200\n",
            "8/8 [==============================] - 0s 3ms/step - loss: 0.0756 - accuracy: 0.9730\n",
            "Epoch 76/200\n",
            "8/8 [==============================] - 0s 3ms/step - loss: 0.0734 - accuracy: 0.9730\n",
            "Epoch 77/200\n",
            "8/8 [==============================] - 0s 2ms/step - loss: 0.0394 - accuracy: 0.9730\n",
            "Epoch 78/200\n",
            "8/8 [==============================] - 0s 2ms/step - loss: 0.0760 - accuracy: 0.9730\n",
            "Epoch 79/200\n",
            "8/8 [==============================] - 0s 3ms/step - loss: 0.0781 - accuracy: 1.0000\n",
            "Epoch 80/200\n",
            "8/8 [==============================] - 0s 2ms/step - loss: 0.0429 - accuracy: 1.0000\n",
            "Epoch 81/200\n",
            "8/8 [==============================] - 0s 2ms/step - loss: 0.0682 - accuracy: 0.9730\n",
            "Epoch 82/200\n",
            "8/8 [==============================] - 0s 2ms/step - loss: 0.0602 - accuracy: 0.9730\n",
            "Epoch 83/200\n",
            "8/8 [==============================] - 0s 2ms/step - loss: 0.0402 - accuracy: 1.0000\n",
            "Epoch 84/200\n",
            "8/8 [==============================] - 0s 3ms/step - loss: 0.0366 - accuracy: 1.0000\n",
            "Epoch 85/200\n",
            "8/8 [==============================] - 0s 2ms/step - loss: 0.1359 - accuracy: 0.9730\n",
            "Epoch 86/200\n",
            "8/8 [==============================] - 0s 2ms/step - loss: 0.0231 - accuracy: 1.0000\n",
            "Epoch 87/200\n",
            "8/8 [==============================] - 0s 2ms/step - loss: 0.0920 - accuracy: 0.9730\n",
            "Epoch 88/200\n",
            "8/8 [==============================] - 0s 3ms/step - loss: 0.0407 - accuracy: 1.0000\n",
            "Epoch 89/200\n",
            "8/8 [==============================] - 0s 3ms/step - loss: 0.0793 - accuracy: 0.9730\n",
            "Epoch 90/200\n",
            "8/8 [==============================] - 0s 2ms/step - loss: 0.0717 - accuracy: 1.0000\n",
            "Epoch 91/200\n",
            "8/8 [==============================] - 0s 3ms/step - loss: 0.0263 - accuracy: 1.0000\n",
            "Epoch 92/200\n",
            "8/8 [==============================] - 0s 2ms/step - loss: 0.1452 - accuracy: 0.9459\n",
            "Epoch 93/200\n",
            "8/8 [==============================] - 0s 2ms/step - loss: 0.0772 - accuracy: 0.9730\n",
            "Epoch 94/200\n",
            "8/8 [==============================] - 0s 2ms/step - loss: 0.0689 - accuracy: 1.0000\n",
            "Epoch 95/200\n",
            "8/8 [==============================] - 0s 3ms/step - loss: 0.0220 - accuracy: 1.0000\n",
            "Epoch 96/200\n",
            "8/8 [==============================] - 0s 2ms/step - loss: 0.0648 - accuracy: 1.0000\n",
            "Epoch 97/200\n",
            "8/8 [==============================] - 0s 2ms/step - loss: 0.0472 - accuracy: 1.0000\n",
            "Epoch 98/200\n",
            "8/8 [==============================] - 0s 3ms/step - loss: 0.0546 - accuracy: 0.9730\n",
            "Epoch 99/200\n",
            "8/8 [==============================] - 0s 3ms/step - loss: 0.0185 - accuracy: 1.0000\n",
            "Epoch 100/200\n",
            "8/8 [==============================] - 0s 2ms/step - loss: 0.0338 - accuracy: 1.0000\n",
            "Epoch 101/200\n",
            "8/8 [==============================] - 0s 2ms/step - loss: 0.0341 - accuracy: 1.0000\n",
            "Epoch 102/200\n",
            "8/8 [==============================] - 0s 2ms/step - loss: 0.0085 - accuracy: 1.0000\n",
            "Epoch 103/200\n",
            "8/8 [==============================] - 0s 2ms/step - loss: 0.0356 - accuracy: 1.0000\n",
            "Epoch 104/200\n",
            "8/8 [==============================] - 0s 2ms/step - loss: 0.0327 - accuracy: 1.0000\n",
            "Epoch 105/200\n",
            "8/8 [==============================] - 0s 2ms/step - loss: 0.0738 - accuracy: 0.9730\n",
            "Epoch 106/200\n",
            "8/8 [==============================] - 0s 2ms/step - loss: 0.0495 - accuracy: 1.0000\n",
            "Epoch 107/200\n",
            "8/8 [==============================] - 0s 3ms/step - loss: 0.0415 - accuracy: 0.9730\n",
            "Epoch 108/200\n",
            "8/8 [==============================] - 0s 3ms/step - loss: 0.0768 - accuracy: 1.0000\n",
            "Epoch 109/200\n",
            "8/8 [==============================] - 0s 2ms/step - loss: 0.0853 - accuracy: 0.9730\n",
            "Epoch 110/200\n",
            "8/8 [==============================] - 0s 2ms/step - loss: 0.0243 - accuracy: 1.0000\n",
            "Epoch 111/200\n",
            "8/8 [==============================] - 0s 3ms/step - loss: 0.0265 - accuracy: 1.0000\n",
            "Epoch 112/200\n",
            "8/8 [==============================] - 0s 2ms/step - loss: 0.0453 - accuracy: 1.0000\n",
            "Epoch 113/200\n",
            "8/8 [==============================] - 0s 3ms/step - loss: 0.0344 - accuracy: 1.0000\n",
            "Epoch 114/200\n",
            "8/8 [==============================] - 0s 3ms/step - loss: 0.0255 - accuracy: 1.0000\n",
            "Epoch 115/200\n",
            "8/8 [==============================] - 0s 2ms/step - loss: 0.0200 - accuracy: 1.0000\n",
            "Epoch 116/200\n",
            "8/8 [==============================] - 0s 3ms/step - loss: 0.0171 - accuracy: 1.0000\n",
            "Epoch 117/200\n",
            "8/8 [==============================] - 0s 2ms/step - loss: 0.0132 - accuracy: 1.0000\n",
            "Epoch 118/200\n",
            "8/8 [==============================] - 0s 2ms/step - loss: 0.0357 - accuracy: 1.0000\n",
            "Epoch 119/200\n",
            "8/8 [==============================] - 0s 2ms/step - loss: 0.0152 - accuracy: 1.0000\n",
            "Epoch 120/200\n",
            "8/8 [==============================] - 0s 2ms/step - loss: 0.1165 - accuracy: 0.9459\n",
            "Epoch 121/200\n",
            "8/8 [==============================] - 0s 2ms/step - loss: 0.0653 - accuracy: 0.9459\n",
            "Epoch 122/200\n",
            "8/8 [==============================] - 0s 2ms/step - loss: 0.0236 - accuracy: 1.0000\n",
            "Epoch 123/200\n",
            "8/8 [==============================] - 0s 2ms/step - loss: 0.0531 - accuracy: 1.0000\n",
            "Epoch 124/200\n",
            "8/8 [==============================] - 0s 2ms/step - loss: 0.0983 - accuracy: 1.0000\n",
            "Epoch 125/200\n",
            "8/8 [==============================] - 0s 2ms/step - loss: 0.1282 - accuracy: 0.9730\n",
            "Epoch 126/200\n",
            "8/8 [==============================] - 0s 2ms/step - loss: 0.0712 - accuracy: 0.9730\n",
            "Epoch 127/200\n",
            "8/8 [==============================] - 0s 2ms/step - loss: 0.0239 - accuracy: 1.0000\n",
            "Epoch 128/200\n",
            "8/8 [==============================] - 0s 2ms/step - loss: 0.1158 - accuracy: 0.9730\n",
            "Epoch 129/200\n",
            "8/8 [==============================] - 0s 2ms/step - loss: 0.0195 - accuracy: 1.0000\n",
            "Epoch 130/200\n",
            "8/8 [==============================] - 0s 2ms/step - loss: 0.0393 - accuracy: 1.0000\n",
            "Epoch 131/200\n",
            "8/8 [==============================] - 0s 2ms/step - loss: 0.0508 - accuracy: 1.0000\n",
            "Epoch 132/200\n",
            "8/8 [==============================] - 0s 2ms/step - loss: 0.0350 - accuracy: 1.0000\n",
            "Epoch 133/200\n",
            "8/8 [==============================] - 0s 2ms/step - loss: 0.0437 - accuracy: 1.0000\n",
            "Epoch 134/200\n",
            "8/8 [==============================] - 0s 2ms/step - loss: 0.0167 - accuracy: 1.0000\n",
            "Epoch 135/200\n",
            "8/8 [==============================] - 0s 2ms/step - loss: 0.0309 - accuracy: 1.0000\n",
            "Epoch 136/200\n",
            "8/8 [==============================] - 0s 2ms/step - loss: 0.0492 - accuracy: 0.9730\n",
            "Epoch 137/200\n",
            "8/8 [==============================] - 0s 3ms/step - loss: 0.0559 - accuracy: 0.9730\n",
            "Epoch 138/200\n",
            "8/8 [==============================] - 0s 2ms/step - loss: 0.0662 - accuracy: 0.9459\n",
            "Epoch 139/200\n",
            "8/8 [==============================] - 0s 3ms/step - loss: 0.0263 - accuracy: 0.9730\n",
            "Epoch 140/200\n",
            "8/8 [==============================] - 0s 2ms/step - loss: 0.0128 - accuracy: 1.0000\n",
            "Epoch 141/200\n",
            "8/8 [==============================] - 0s 2ms/step - loss: 0.0842 - accuracy: 0.9730\n",
            "Epoch 142/200\n",
            "8/8 [==============================] - 0s 2ms/step - loss: 0.0557 - accuracy: 1.0000\n",
            "Epoch 143/200\n",
            "8/8 [==============================] - 0s 3ms/step - loss: 0.0269 - accuracy: 1.0000\n",
            "Epoch 144/200\n",
            "8/8 [==============================] - 0s 2ms/step - loss: 0.0165 - accuracy: 1.0000\n",
            "Epoch 145/200\n",
            "8/8 [==============================] - 0s 2ms/step - loss: 0.0272 - accuracy: 1.0000\n",
            "Epoch 146/200\n",
            "8/8 [==============================] - 0s 3ms/step - loss: 0.0203 - accuracy: 1.0000\n",
            "Epoch 147/200\n",
            "8/8 [==============================] - 0s 3ms/step - loss: 0.0125 - accuracy: 1.0000\n",
            "Epoch 148/200\n",
            "8/8 [==============================] - 0s 3ms/step - loss: 0.0220 - accuracy: 1.0000\n",
            "Epoch 149/200\n",
            "8/8 [==============================] - 0s 3ms/step - loss: 0.0160 - accuracy: 1.0000\n",
            "Epoch 150/200\n",
            "8/8 [==============================] - 0s 3ms/step - loss: 0.0123 - accuracy: 1.0000\n",
            "Epoch 151/200\n",
            "8/8 [==============================] - 0s 2ms/step - loss: 0.0055 - accuracy: 1.0000\n",
            "Epoch 152/200\n",
            "8/8 [==============================] - 0s 2ms/step - loss: 0.0643 - accuracy: 0.9730\n",
            "Epoch 153/200\n",
            "8/8 [==============================] - 0s 2ms/step - loss: 0.0534 - accuracy: 1.0000\n",
            "Epoch 154/200\n",
            "8/8 [==============================] - 0s 3ms/step - loss: 0.0298 - accuracy: 1.0000\n",
            "Epoch 155/200\n",
            "8/8 [==============================] - 0s 2ms/step - loss: 0.0127 - accuracy: 1.0000\n",
            "Epoch 156/200\n",
            "8/8 [==============================] - 0s 2ms/step - loss: 0.0109 - accuracy: 1.0000\n",
            "Epoch 157/200\n",
            "8/8 [==============================] - 0s 2ms/step - loss: 0.0201 - accuracy: 1.0000\n",
            "Epoch 158/200\n",
            "8/8 [==============================] - 0s 3ms/step - loss: 0.0398 - accuracy: 1.0000\n",
            "Epoch 159/200\n",
            "8/8 [==============================] - 0s 2ms/step - loss: 0.0191 - accuracy: 1.0000\n",
            "Epoch 160/200\n",
            "8/8 [==============================] - 0s 2ms/step - loss: 0.0612 - accuracy: 0.9730\n",
            "Epoch 161/200\n",
            "8/8 [==============================] - 0s 2ms/step - loss: 0.0131 - accuracy: 1.0000\n",
            "Epoch 162/200\n",
            "8/8 [==============================] - 0s 2ms/step - loss: 0.0241 - accuracy: 1.0000\n",
            "Epoch 163/200\n",
            "8/8 [==============================] - 0s 2ms/step - loss: 0.0139 - accuracy: 1.0000\n",
            "Epoch 164/200\n",
            "8/8 [==============================] - 0s 2ms/step - loss: 0.0808 - accuracy: 0.9730\n",
            "Epoch 165/200\n",
            "8/8 [==============================] - 0s 3ms/step - loss: 0.0375 - accuracy: 0.9730\n",
            "Epoch 166/200\n",
            "8/8 [==============================] - 0s 3ms/step - loss: 0.0031 - accuracy: 1.0000\n",
            "Epoch 167/200\n",
            "8/8 [==============================] - 0s 3ms/step - loss: 0.0492 - accuracy: 1.0000\n",
            "Epoch 168/200\n",
            "8/8 [==============================] - 0s 3ms/step - loss: 0.0250 - accuracy: 1.0000\n",
            "Epoch 169/200\n",
            "8/8 [==============================] - 0s 3ms/step - loss: 0.0114 - accuracy: 1.0000\n",
            "Epoch 170/200\n",
            "8/8 [==============================] - 0s 2ms/step - loss: 0.0357 - accuracy: 1.0000\n",
            "Epoch 171/200\n",
            "8/8 [==============================] - 0s 3ms/step - loss: 0.0163 - accuracy: 1.0000\n",
            "Epoch 172/200\n",
            "8/8 [==============================] - 0s 3ms/step - loss: 0.0376 - accuracy: 1.0000\n",
            "Epoch 173/200\n",
            "8/8 [==============================] - 0s 3ms/step - loss: 0.0408 - accuracy: 1.0000\n",
            "Epoch 174/200\n",
            "8/8 [==============================] - 0s 3ms/step - loss: 0.0180 - accuracy: 1.0000\n",
            "Epoch 175/200\n",
            "8/8 [==============================] - 0s 3ms/step - loss: 0.0670 - accuracy: 0.9730\n",
            "Epoch 176/200\n",
            "8/8 [==============================] - 0s 3ms/step - loss: 0.0113 - accuracy: 1.0000\n",
            "Epoch 177/200\n",
            "8/8 [==============================] - 0s 2ms/step - loss: 0.0110 - accuracy: 1.0000\n",
            "Epoch 178/200\n",
            "8/8 [==============================] - 0s 2ms/step - loss: 0.0246 - accuracy: 1.0000\n",
            "Epoch 179/200\n",
            "8/8 [==============================] - 0s 2ms/step - loss: 0.0144 - accuracy: 1.0000\n",
            "Epoch 180/200\n",
            "8/8 [==============================] - 0s 2ms/step - loss: 0.0102 - accuracy: 1.0000\n",
            "Epoch 181/200\n",
            "8/8 [==============================] - 0s 2ms/step - loss: 0.0325 - accuracy: 1.0000\n",
            "Epoch 182/200\n",
            "8/8 [==============================] - 0s 3ms/step - loss: 0.0335 - accuracy: 1.0000\n",
            "Epoch 183/200\n",
            "8/8 [==============================] - 0s 4ms/step - loss: 0.0153 - accuracy: 1.0000\n",
            "Epoch 184/200\n",
            "8/8 [==============================] - 0s 3ms/step - loss: 0.0143 - accuracy: 1.0000\n",
            "Epoch 185/200\n",
            "8/8 [==============================] - 0s 3ms/step - loss: 0.0796 - accuracy: 0.9730\n",
            "Epoch 186/200\n",
            "8/8 [==============================] - 0s 3ms/step - loss: 0.0155 - accuracy: 1.0000\n",
            "Epoch 187/200\n",
            "8/8 [==============================] - 0s 2ms/step - loss: 0.0125 - accuracy: 1.0000\n",
            "Epoch 188/200\n",
            "8/8 [==============================] - 0s 2ms/step - loss: 0.0112 - accuracy: 1.0000\n",
            "Epoch 189/200\n",
            "8/8 [==============================] - 0s 3ms/step - loss: 0.0095 - accuracy: 1.0000\n",
            "Epoch 190/200\n",
            "8/8 [==============================] - 0s 2ms/step - loss: 0.0167 - accuracy: 1.0000\n",
            "Epoch 191/200\n",
            "8/8 [==============================] - 0s 2ms/step - loss: 0.0094 - accuracy: 1.0000\n",
            "Epoch 192/200\n",
            "8/8 [==============================] - 0s 2ms/step - loss: 0.1267 - accuracy: 0.9459\n",
            "Epoch 193/200\n",
            "8/8 [==============================] - 0s 3ms/step - loss: 0.0113 - accuracy: 1.0000\n",
            "Epoch 194/200\n",
            "8/8 [==============================] - 0s 2ms/step - loss: 0.0297 - accuracy: 0.9730\n",
            "Epoch 195/200\n",
            "8/8 [==============================] - 0s 2ms/step - loss: 0.0092 - accuracy: 1.0000\n",
            "Epoch 196/200\n",
            "8/8 [==============================] - 0s 2ms/step - loss: 0.0144 - accuracy: 1.0000\n",
            "Epoch 197/200\n",
            "8/8 [==============================] - 0s 2ms/step - loss: 0.0138 - accuracy: 1.0000\n",
            "Epoch 198/200\n",
            "8/8 [==============================] - 0s 2ms/step - loss: 0.0145 - accuracy: 1.0000\n",
            "Epoch 199/200\n",
            "8/8 [==============================] - 0s 2ms/step - loss: 0.0202 - accuracy: 1.0000\n",
            "Epoch 200/200\n",
            "8/8 [==============================] - 0s 2ms/step - loss: 0.0589 - accuracy: 0.9730\n",
            "Done\n"
          ]
        }
      ]
    },
    {
      "cell_type": "markdown",
      "source": [
        "# building chatbot application that uses trained file"
      ],
      "metadata": {
        "id": "JSixhJNgC99W"
      }
    },
    {
      "cell_type": "code",
      "source": [
        "from tensorflow.keras.models import load_model\n",
        "\n",
        "lemmatizer = WordNetLemmatizer()\n",
        "\n",
        "intents = json.loads(open('intents.json').read())\n",
        "\n",
        "#loading all the dumped files\n",
        "words = pickle.load(open('words.pkl', 'rb'))\n",
        "classes = pickle.load(open('classes.pkl', 'rb'))\n",
        "\n",
        "#loading model\n",
        "model = load_model('chatbot_model.h5')\n"
      ],
      "metadata": {
        "id": "JfmXIE_f_FvR"
      },
      "execution_count": 10,
      "outputs": []
    },
    {
      "cell_type": "markdown",
      "source": [
        "clean -> bag find -> class find -> response (output)"
      ],
      "metadata": {
        "id": "pR3jevI5Eerj"
      }
    },
    {
      "cell_type": "code",
      "source": [
        "# tokenize->lemmatize\n",
        "\n",
        "def clean_up_sentence(sentence):\n",
        "    sentence_words = nltk.word_tokenize(sentence)\n",
        "    sentence_words = [lemmatizer.lemmatize(word) for word in sentence_words]\n",
        "    return sentence_words"
      ],
      "metadata": {
        "id": "VToBml6xDLwB"
      },
      "execution_count": 12,
      "outputs": []
    },
    {
      "cell_type": "code",
      "source": [
        "# sentence->bag of words (0s or 1s)\n",
        "\n",
        "def bag_of_words(sentence):\n",
        "    sentence_words = clean_up_sentence(sentence)\n",
        "    bag = [0] * len(words)\n",
        "    for w in sentence_words:\n",
        "        for i, word in enumerate(words):\n",
        "            if word == w:\n",
        "                bag[i] = 1\n",
        "    return np.array(bag)"
      ],
      "metadata": {
        "id": "Kxov5IMbDLzI"
      },
      "execution_count": 13,
      "outputs": []
    },
    {
      "cell_type": "code",
      "source": [
        "#predicting sentence's class: \n",
        "\n",
        "def predict_class(sentence):\n",
        "    bow = bag_of_words(sentence)\n",
        "\n",
        "  #model result\n",
        "    res = model.predict(np.array([bow]), verbose = 0)[0]\n",
        "\n",
        "  #setting uncertainity threshold\n",
        "    ERROR_THRESHOLD = 0.25\n",
        "\n",
        "  #filtering results\n",
        "    results = [[i, r] for i, r in enumerate(res) if r > ERROR_THRESHOLD]\n",
        "\n",
        "  #highest probab first\n",
        "    results.sort(key=lambda x: x[1], reverse=True)\n",
        "\n",
        "    return_list = []\n",
        "    \n",
        "  #returning intents and probab\n",
        "    for r in results:\n",
        "        return_list.append({'intent': classes[r[0]], 'probability': str(r[1])})\n",
        "    return return_list"
      ],
      "metadata": {
        "id": "2LWNnlO7DL19"
      },
      "execution_count": 14,
      "outputs": []
    },
    {
      "cell_type": "code",
      "source": [
        "#getting response\n",
        "\n",
        "def get_response(intents_list, intents_json):\n",
        "    tag = intents_list[0]['intent']\n",
        "    list_of_intents = intents_json['intents']\n",
        "    for i in list_of_intents:\n",
        "        if i['tag'] == tag:\n",
        "            result = random.choice(i['responses'])\n",
        "            break\n",
        "    return result"
      ],
      "metadata": {
        "id": "ymhhTDUMDL4e"
      },
      "execution_count": 15,
      "outputs": []
    },
    {
      "cell_type": "code",
      "source": [
        "while True:\n",
        "    message =input(\"\")\n",
        "    if message==\"quit\":\n",
        "      break\n",
        "    else: \n",
        "      ints = predict_class(message)\n",
        "      res = get_response(ints, intents)\n",
        "      print(res)"
      ],
      "metadata": {
        "colab": {
          "base_uri": "https://localhost:8080/"
        },
        "id": "5eug7YUT_F5_",
        "outputId": "b96ce06a-f7e5-4361-c417-5f45f41d60e3"
      },
      "execution_count": 19,
      "outputs": [
        {
          "name": "stdout",
          "output_type": "stream",
          "text": [
            "hello\n",
            "Good to see you, what information are you looking for?\n",
            "do you provide artificial intelligence servicess?\n",
            "We welcome both national and international clients.\n",
            "Who created you\n",
            "You are speaking with a bot.\n",
            "what are your working hours?\n",
            "Yes, we are available 24/7 all year round.\n",
            "quit\n"
          ]
        }
      ]
    },
    {
      "cell_type": "code",
      "source": [],
      "metadata": {
        "id": "bWl9rzFFEohP"
      },
      "execution_count": null,
      "outputs": []
    },
    {
      "cell_type": "code",
      "source": [],
      "metadata": {
        "id": "YaldtV0dEojt"
      },
      "execution_count": null,
      "outputs": []
    },
    {
      "cell_type": "code",
      "source": [],
      "metadata": {
        "id": "J5fJuAhDEomV"
      },
      "execution_count": null,
      "outputs": []
    }
  ]
}